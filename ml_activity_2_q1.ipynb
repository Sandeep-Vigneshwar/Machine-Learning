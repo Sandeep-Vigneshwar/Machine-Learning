{
 "cells": [
  {
   "cell_type": "markdown",
   "id": "3801c6e8-4289-47f3-9e06-2faabbc75780",
   "metadata": {},
   "source": [
    "# Machine Learning : Activity 2 - Logistic Regression"
   ]
  },
  {
   "cell_type": "markdown",
   "id": "c3e31b24-98bc-4de7-aaa2-fa886cb5af5c",
   "metadata": {},
   "source": [
    "### Importing libraries"
   ]
  },
  {
   "cell_type": "code",
   "execution_count": 2,
   "id": "6331127c-5258-4e43-9a8d-9a896bb385ef",
   "metadata": {},
   "outputs": [],
   "source": [
    "import pandas as pd\n",
    "from sklearn.model_selection import train_test_split\n",
    "from sklearn.linear_model import LogisticRegression\n",
    "from sklearn import metrics\n",
    "import seaborn as sn"
   ]
  },
  {
   "cell_type": "markdown",
   "id": "b9056b73-e2f5-4152-9733-3a04bda059dd",
   "metadata": {},
   "source": [
    "### Reading the dataset"
   ]
  },
  {
   "cell_type": "code",
   "execution_count": 9,
   "id": "06b38e9c-6fe2-4791-8f68-d5081e46b095",
   "metadata": {},
   "outputs": [
    {
     "data": {
      "text/plain": [
       "['admit', 'gre', 'gpa', 'rank']"
      ]
     },
     "execution_count": 9,
     "metadata": {},
     "output_type": "execute_result"
    }
   ],
   "source": [
    "df = pd.read_csv('dataset.csv')\n",
    "col_names = df.columns.tolist()\n",
    "col_names"
   ]
  },
  {
   "cell_type": "code",
   "execution_count": 10,
   "id": "d2410876-d5f2-41a4-bc39-a5a76af2023b",
   "metadata": {},
   "outputs": [
    {
     "data": {
      "text/plain": [
       "admit    0\n",
       "gre      0\n",
       "gpa      0\n",
       "rank     0\n",
       "dtype: int64"
      ]
     },
     "execution_count": 10,
     "metadata": {},
     "output_type": "execute_result"
    }
   ],
   "source": [
    "df.isnull().sum()"
   ]
  },
  {
   "cell_type": "markdown",
   "id": "4c92ff5b-78ab-43e4-8f69-149706e1393d",
   "metadata": {},
   "source": [
    "### Splitting the dataset to train and test"
   ]
  },
  {
   "cell_type": "code",
   "execution_count": 18,
   "id": "957bb315-5bb4-45d4-9920-9d97bd0acaf1",
   "metadata": {},
   "outputs": [
    {
     "data": {
      "text/plain": [
       "(320, 3)"
      ]
     },
     "metadata": {},
     "output_type": "display_data"
    },
    {
     "data": {
      "text/plain": [
       "(320,)"
      ]
     },
     "metadata": {},
     "output_type": "display_data"
    },
    {
     "data": {
      "text/plain": [
       "(80, 3)"
      ]
     },
     "metadata": {},
     "output_type": "display_data"
    },
    {
     "data": {
      "text/plain": [
       "(80,)"
      ]
     },
     "metadata": {},
     "output_type": "display_data"
    }
   ],
   "source": [
    "x = df[['gre', 'gpa', 'rank']]\n",
    "y = df['admit']\n",
    "x_train, x_test, y_train, y_test = train_test_split(x,y,test_size=0.2,random_state=42)\n",
    "display(x_train.shape,y_train.shape,x_test.shape,y_test.shape)"
   ]
  },
  {
   "cell_type": "markdown",
   "id": "21354d93-da39-497e-83e8-c9ec4412045d",
   "metadata": {},
   "source": [
    "### Fitting the model"
   ]
  },
  {
   "cell_type": "code",
   "execution_count": 19,
   "id": "2be6c416-b555-4844-b7a9-63cea466fea8",
   "metadata": {},
   "outputs": [],
   "source": [
    "model = LogisticRegression(solver='lbfgs', max_iter=1000)\n",
    "model.fit(x_train,y_train)\n",
    "y_pred = model.predict(x_test)"
   ]
  },
  {
   "cell_type": "markdown",
   "id": "b74fce09-1ba6-4c5e-a185-f63957e47a30",
   "metadata": {},
   "source": [
    "### Evaluating Metrics"
   ]
  },
  {
   "cell_type": "code",
   "execution_count": 24,
   "id": "a6d0a58e-500f-4976-a9b4-54652cf30390",
   "metadata": {},
   "outputs": [
    {
     "name": "stdout",
     "output_type": "stream",
     "text": [
      "Confusion Matrix : \n",
      " [[51  2]\n",
      " [25  2]]\n",
      "Accuracy :  0.6625\n",
      "Acc in % :  66 %\n"
     ]
    }
   ],
   "source": [
    "conf_mat = metrics.confusion_matrix(y_test,y_pred)\n",
    "print('Confusion Matrix : \\n', conf_mat)\n",
    "acc_score = metrics.accuracy_score(y_test,y_pred)\n",
    "print('Accuracy : ', acc_score)\n",
    "print('Acc in % : ', int(acc_score*100),'%')"
   ]
  },
  {
   "cell_type": "markdown",
   "id": "5391cb0d-02f3-4dac-8478-0c27e0ec9fbd",
   "metadata": {},
   "source": [
    "### Visualizing confusion matrix heat map"
   ]
  },
  {
   "cell_type": "code",
   "execution_count": 21,
   "id": "ab102c92-82e0-4645-b63d-15364f979233",
   "metadata": {},
   "outputs": [
    {
     "data": {
      "text/plain": [
       "<Axes: xlabel='Predicted', ylabel='Actual'>"
      ]
     },
     "execution_count": 21,
     "metadata": {},
     "output_type": "execute_result"
    },
    {
     "data": {
      "image/png": "[encoded data removed]",
      "text/plain": [
       "<Figure size 640x480 with 2 Axes>"
      ]
     },
     "metadata": {},
     "output_type": "display_data"
    }
   ],
   "source": [
    "conf_mat = pd.crosstab(y_test,y_pred,rownames=['Actual'], colnames=['Predicted'])\n",
    "sn.heatmap(conf_mat, annot=True)"
   ]
  }
 ],
 "metadata": {
  "kernelspec": {
   "display_name": "Python 3 (ipykernel)",
   "language": "python",
   "name": "python3"
  },
  "language_info": {
   "codemirror_mode": {
    "name": "ipython",
    "version": 3
   },
   "file_extension": ".py",
   "mimetype": "text/x-python",
   "name": "python",
   "nbconvert_exporter": "python",
   "pygments_lexer": "ipython3",
   "version": "3.10.11"
  }
 },
 "nbformat": 4,
 "nbformat_minor": 5
}
